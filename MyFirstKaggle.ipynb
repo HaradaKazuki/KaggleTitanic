{
 "cells": [
  {
   "cell_type": "code",
   "execution_count": 1,
   "id": "17a4f407",
   "metadata": {
    "_cell_guid": "e94fbe25-7f7b-477c-a2a1-25a978fdab69",
    "_uuid": "dc6f8ba4-7296-4035-a46d-5c29eb42226e",
    "collapsed": false,
    "execution": {
     "iopub.execute_input": "2025-03-09T13:57:43.047973Z",
     "iopub.status.busy": "2025-03-09T13:57:43.047485Z",
     "iopub.status.idle": "2025-03-09T13:57:43.878400Z",
     "shell.execute_reply": "2025-03-09T13:57:43.877103Z"
    },
    "jupyter": {
     "outputs_hidden": false
    },
    "papermill": {
     "duration": 0.83715,
     "end_time": "2025-03-09T13:57:43.880208",
     "exception": false,
     "start_time": "2025-03-09T13:57:43.043058",
     "status": "completed"
    },
    "tags": []
   },
   "outputs": [
    {
     "name": "stdout",
     "output_type": "stream",
     "text": [
      "/kaggle/input/titanic/train.csv\n",
      "/kaggle/input/titanic/test.csv\n",
      "/kaggle/input/titanic/gender_submission.csv\n"
     ]
    }
   ],
   "source": [
    "# This Python 3 environment comes with many helpful analytics libraries installed\n",
    "# It is defined by the kaggle/python Docker image: https://github.com/kaggle/docker-python\n",
    "# For example, here's several helpful packages to load\n",
    "\n",
    "import numpy as np # linear algebra\n",
    "import pandas as pd # data processing, CSV file I/O (e.g. pd.read_csv)\n",
    "\n",
    "# Input data files are available in the read-only \"../input/\" directory\n",
    "# For example, running this (by clicking run or pressing Shift+Enter) will list all files under the input directory\n",
    "\n",
    "import os\n",
    "for dirname, _, filenames in os.walk('/kaggle/input'):\n",
    "    for filename in filenames:\n",
    "        print(os.path.join(dirname, filename))\n",
    "\n",
    "# You can write up to 20GB to the current directory (/kaggle/working/) that gets preserved as output when you create a version using \"Save & Run All\" \n",
    "# You can also write temporary files to /kaggle/temp/, but they won't be saved outside of the current session"
   ]
  },
  {
   "cell_type": "code",
   "execution_count": 2,
   "id": "3d91cdff",
   "metadata": {
    "_cell_guid": "f99a5722-1783-4f90-834e-2abe96d0e6df",
    "_uuid": "4e0c0cf1-8d2d-4439-9a78-7c6485ef5833",
    "collapsed": false,
    "execution": {
     "iopub.execute_input": "2025-03-09T13:57:43.887942Z",
     "iopub.status.busy": "2025-03-09T13:57:43.887471Z",
     "iopub.status.idle": "2025-03-09T13:57:43.938434Z",
     "shell.execute_reply": "2025-03-09T13:57:43.937356Z"
    },
    "jupyter": {
     "outputs_hidden": false
    },
    "papermill": {
     "duration": 0.056229,
     "end_time": "2025-03-09T13:57:43.940111",
     "exception": false,
     "start_time": "2025-03-09T13:57:43.883882",
     "status": "completed"
    },
    "tags": []
   },
   "outputs": [
    {
     "data": {
      "text/html": [
       "<div>\n",
       "<style scoped>\n",
       "    .dataframe tbody tr th:only-of-type {\n",
       "        vertical-align: middle;\n",
       "    }\n",
       "\n",
       "    .dataframe tbody tr th {\n",
       "        vertical-align: top;\n",
       "    }\n",
       "\n",
       "    .dataframe thead th {\n",
       "        text-align: right;\n",
       "    }\n",
       "</style>\n",
       "<table border=\"1\" class=\"dataframe\">\n",
       "  <thead>\n",
       "    <tr style=\"text-align: right;\">\n",
       "      <th></th>\n",
       "      <th>PassengerId</th>\n",
       "      <th>Survived</th>\n",
       "    </tr>\n",
       "  </thead>\n",
       "  <tbody>\n",
       "    <tr>\n",
       "      <th>0</th>\n",
       "      <td>892</td>\n",
       "      <td>0</td>\n",
       "    </tr>\n",
       "    <tr>\n",
       "      <th>1</th>\n",
       "      <td>893</td>\n",
       "      <td>1</td>\n",
       "    </tr>\n",
       "    <tr>\n",
       "      <th>2</th>\n",
       "      <td>894</td>\n",
       "      <td>0</td>\n",
       "    </tr>\n",
       "    <tr>\n",
       "      <th>3</th>\n",
       "      <td>895</td>\n",
       "      <td>0</td>\n",
       "    </tr>\n",
       "    <tr>\n",
       "      <th>4</th>\n",
       "      <td>896</td>\n",
       "      <td>1</td>\n",
       "    </tr>\n",
       "    <tr>\n",
       "      <th>...</th>\n",
       "      <td>...</td>\n",
       "      <td>...</td>\n",
       "    </tr>\n",
       "    <tr>\n",
       "      <th>413</th>\n",
       "      <td>1305</td>\n",
       "      <td>0</td>\n",
       "    </tr>\n",
       "    <tr>\n",
       "      <th>414</th>\n",
       "      <td>1306</td>\n",
       "      <td>1</td>\n",
       "    </tr>\n",
       "    <tr>\n",
       "      <th>415</th>\n",
       "      <td>1307</td>\n",
       "      <td>0</td>\n",
       "    </tr>\n",
       "    <tr>\n",
       "      <th>416</th>\n",
       "      <td>1308</td>\n",
       "      <td>0</td>\n",
       "    </tr>\n",
       "    <tr>\n",
       "      <th>417</th>\n",
       "      <td>1309</td>\n",
       "      <td>0</td>\n",
       "    </tr>\n",
       "  </tbody>\n",
       "</table>\n",
       "<p>418 rows × 2 columns</p>\n",
       "</div>"
      ],
      "text/plain": [
       "     PassengerId  Survived\n",
       "0            892         0\n",
       "1            893         1\n",
       "2            894         0\n",
       "3            895         0\n",
       "4            896         1\n",
       "..           ...       ...\n",
       "413         1305         0\n",
       "414         1306         1\n",
       "415         1307         0\n",
       "416         1308         0\n",
       "417         1309         0\n",
       "\n",
       "[418 rows x 2 columns]"
      ]
     },
     "execution_count": 2,
     "metadata": {},
     "output_type": "execute_result"
    }
   ],
   "source": [
    "train_df = pd.read_csv(\"/kaggle/input/titanic/train.csv\")\n",
    "train_df\n",
    "\n",
    "# debug\n",
    "submitTest = pd.read_csv(\"/kaggle/input/titanic/gender_submission.csv\")\n",
    "submitTest"
   ]
  },
  {
   "cell_type": "code",
   "execution_count": 3,
   "id": "34a50fc8",
   "metadata": {
    "_cell_guid": "849a236b-170c-4878-bc3f-69b51c9ebdc3",
    "_uuid": "778ad7b1-2365-4da0-9863-bc52d2a0e725",
    "collapsed": false,
    "execution": {
     "iopub.execute_input": "2025-03-09T13:57:43.947247Z",
     "iopub.status.busy": "2025-03-09T13:57:43.946937Z",
     "iopub.status.idle": "2025-03-09T13:57:43.952411Z",
     "shell.execute_reply": "2025-03-09T13:57:43.951217Z"
    },
    "jupyter": {
     "outputs_hidden": false
    },
    "papermill": {
     "duration": 0.010987,
     "end_time": "2025-03-09T13:57:43.954190",
     "exception": false,
     "start_time": "2025-03-09T13:57:43.943203",
     "status": "completed"
    },
    "tags": []
   },
   "outputs": [
    {
     "name": "stdout",
     "output_type": "stream",
     "text": [
      "['Pclass', 'Name', 'Sex', 'Age', 'SibSp', 'Parch', 'Fare', 'Cabin', 'Embarked']\n"
     ]
    }
   ],
   "source": [
    "input_features = list(train_df.columns)\n",
    "input_features.remove(\"Ticket\")\n",
    "input_features.remove(\"PassengerId\")\n",
    "input_features.remove(\"Survived\")\n",
    "print(input_features)"
   ]
  },
  {
   "cell_type": "code",
   "execution_count": 4,
   "id": "d09250f3",
   "metadata": {
    "_cell_guid": "8176a3d4-d286-47d0-98b6-a8f5d308bad2",
    "_uuid": "5d2e8966-9193-4d5e-8bb8-cf75b5878817",
    "collapsed": false,
    "execution": {
     "iopub.execute_input": "2025-03-09T13:57:43.961766Z",
     "iopub.status.busy": "2025-03-09T13:57:43.961380Z",
     "iopub.status.idle": "2025-03-09T13:58:01.444874Z",
     "shell.execute_reply": "2025-03-09T13:58:01.443574Z"
    },
    "jupyter": {
     "outputs_hidden": false
    },
    "papermill": {
     "duration": 17.489528,
     "end_time": "2025-03-09T13:58:01.446874",
     "exception": false,
     "start_time": "2025-03-09T13:57:43.957346",
     "status": "completed"
    },
    "tags": []
   },
   "outputs": [
    {
     "name": "stdout",
     "output_type": "stream",
     "text": [
      "<_MapDataset element_spec=({'PassengerId': TensorSpec(shape=(None,), dtype=tf.int64, name=None), 'Pclass': TensorSpec(shape=(None,), dtype=tf.int64, name=None), 'Name': RaggedTensorSpec(TensorShape([None, None]), tf.string, 1, tf.int64), 'Sex': TensorSpec(shape=(None,), dtype=tf.string, name=None), 'Age': TensorSpec(shape=(None,), dtype=tf.float64, name=None), 'SibSp': TensorSpec(shape=(None,), dtype=tf.int64, name=None), 'Parch': TensorSpec(shape=(None,), dtype=tf.int64, name=None), 'Ticket': TensorSpec(shape=(None,), dtype=tf.string, name=None), 'Fare': TensorSpec(shape=(None,), dtype=tf.float64, name=None), 'Cabin': TensorSpec(shape=(None,), dtype=tf.string, name=None), 'Embarked': TensorSpec(shape=(None,), dtype=tf.string, name=None)}, TensorSpec(shape=(None,), dtype=tf.int64, name=None))>\n"
     ]
    },
    {
     "name": "stderr",
     "output_type": "stream",
     "text": [
      "/usr/local/lib/python3.10/dist-packages/pandas/io/formats/format.py:1458: RuntimeWarning: invalid value encountered in greater\n",
      "  has_large_values = (abs_vals > 1e6).any()\n",
      "/usr/local/lib/python3.10/dist-packages/pandas/io/formats/format.py:1459: RuntimeWarning: invalid value encountered in less\n",
      "  has_small_values = ((abs_vals < 10 ** (-self.digits)) & (abs_vals > 0)).any()\n",
      "/usr/local/lib/python3.10/dist-packages/pandas/io/formats/format.py:1459: RuntimeWarning: invalid value encountered in greater\n",
      "  has_small_values = ((abs_vals < 10 ** (-self.digits)) & (abs_vals > 0)).any()\n"
     ]
    }
   ],
   "source": [
    "import tensorflow as tf\n",
    "import tensorflow_decision_forests as tfdf\n",
    "\n",
    "def tokenize_names(features,labels=None):\n",
    "    features[\"Name\"] = tf.strings.split(features[\"Name\"])\n",
    "    return features,labels\n",
    "\n",
    "# TFDFで取り扱い可能な，tf.data.datasetに変換後，名前トークンを作成している\n",
    "# label=\"Survived\" → 目的変数を設定 正解ラベルを指定\n",
    "# 戻り値：tf.data.dataset\n",
    "train_ds = tfdf.keras.pd_dataframe_to_tf_dataset(train_df,label=\"Survived\").map(tokenize_names)\n",
    "print(train_ds)"
   ]
  },
  {
   "cell_type": "code",
   "execution_count": 5,
   "id": "f988cdcd",
   "metadata": {
    "_cell_guid": "9ef29605-a06f-4dcd-96b1-c29060731934",
    "_uuid": "5fcaec84-395d-46c1-aaca-f880446c9a53",
    "collapsed": false,
    "execution": {
     "iopub.execute_input": "2025-03-09T13:58:01.454830Z",
     "iopub.status.busy": "2025-03-09T13:58:01.454250Z",
     "iopub.status.idle": "2025-03-09T13:58:07.642954Z",
     "shell.execute_reply": "2025-03-09T13:58:07.641852Z"
    },
    "jupyter": {
     "outputs_hidden": false
    },
    "papermill": {
     "duration": 6.194505,
     "end_time": "2025-03-09T13:58:07.644668",
     "exception": false,
     "start_time": "2025-03-09T13:58:01.450163",
     "status": "completed"
    },
    "tags": []
   },
   "outputs": [
    {
     "name": "stdout",
     "output_type": "stream",
     "text": [
      "Evaluation(num_examples=None, accuracy=0.804347813129425, loss=0.8799477815628052, rmse=None, ndcg=None, aucs=None, auuc=None, qini=None)\n"
     ]
    }
   ],
   "source": [
    "# トレーニング実施\n",
    "model = tfdf.keras.GradientBoostedTreesModel(\n",
    "    verbose=0, # ログ表示設定 最小限\n",
    "    features=[tfdf.keras.FeatureUsage(name=n) for n in input_features],\n",
    "    exclude_non_specified_features=True,\n",
    "    random_seed=1234,\n",
    ")\n",
    "\n",
    "# 学習\n",
    "model.fit(train_ds)\n",
    "\n",
    "# モデル評価オブジェクトInspecotrオブジェクト生成\n",
    "# 評価取得\n",
    "self_evaluation = model.make_inspector().evaluation()\n",
    "print(self_evaluation)"
   ]
  },
  {
   "cell_type": "code",
   "execution_count": 6,
   "id": "a26a7cc1",
   "metadata": {
    "_cell_guid": "e195c902-3e2d-47be-bbb7-08768a2ad26d",
    "_uuid": "13d28fdd-249a-49e0-80a6-e3b5f161a75d",
    "collapsed": false,
    "execution": {
     "iopub.execute_input": "2025-03-09T13:58:07.652388Z",
     "iopub.status.busy": "2025-03-09T13:58:07.652015Z",
     "iopub.status.idle": "2025-03-09T13:58:07.991262Z",
     "shell.execute_reply": "2025-03-09T13:58:07.989690Z"
    },
    "jupyter": {
     "outputs_hidden": false
    },
    "papermill": {
     "duration": 0.345608,
     "end_time": "2025-03-09T13:58:07.993597",
     "exception": false,
     "start_time": "2025-03-09T13:58:07.647989",
     "status": "completed"
    },
    "tags": []
   },
   "outputs": [
    {
     "name": "stderr",
     "output_type": "stream",
     "text": [
      "/usr/local/lib/python3.10/dist-packages/pandas/io/formats/format.py:1458: RuntimeWarning: invalid value encountered in greater\n",
      "  has_large_values = (abs_vals > 1e6).any()\n",
      "/usr/local/lib/python3.10/dist-packages/pandas/io/formats/format.py:1459: RuntimeWarning: invalid value encountered in less\n",
      "  has_small_values = ((abs_vals < 10 ** (-self.digits)) & (abs_vals > 0)).any()\n",
      "/usr/local/lib/python3.10/dist-packages/pandas/io/formats/format.py:1459: RuntimeWarning: invalid value encountered in greater\n",
      "  has_small_values = ((abs_vals < 10 ** (-self.digits)) & (abs_vals > 0)).any()\n"
     ]
    },
    {
     "name": "stdout",
     "output_type": "stream",
     "text": [
      "Submission exported to /kaggle/working/submission.csv\n",
      "PassengerId,Survived\r\n",
      "892,0\r\n",
      "893,0\r\n",
      "894,0\r\n",
      "895,0\r\n",
      "896,1\r\n",
      "897,0\r\n",
      "898,1\r\n",
      "899,0\r\n",
      "900,1\r\n"
     ]
    }
   ],
   "source": [
    "serving_df = pd.read_csv(\"/kaggle/input/titanic/test.csv\")\n",
    "serving_ds = tfdf.keras.pd_dataframe_to_tf_dataset(serving_df).map(tokenize_names)\n",
    "\n",
    "def prediction_to_kaggle_format(model,th=0.5):\n",
    "    # 予測\n",
    "    proba_survive = model.predict(serving_ds,verbose=0)[:,0]\n",
    "    return pd.DataFrame({\n",
    "        \"PassengerId\": serving_df[\"PassengerId\"],\n",
    "        \"Survived\": (proba_survive >= th).astype(int)\n",
    "    })\n",
    "\n",
    "def make_submission(kaggle_predictions):\n",
    "    path=\"/kaggle/working/submission.csv\"\n",
    "    kaggle_predictions.to_csv(path,index=False)\n",
    "    print(f\"Submission exported to {path}\") # f入れると変数を扱える JSの${}と同じと思う\n",
    "\n",
    "kaggle_predictions = prediction_to_kaggle_format(model)\n",
    "make_submission(kaggle_predictions)\n",
    "!head /kaggle/working/submission.csv"
   ]
  },
  {
   "cell_type": "markdown",
   "id": "1b6918dc",
   "metadata": {
    "_cell_guid": "0d5beb7e-5e93-4b08-9d3c-460b8565cb93",
    "_uuid": "38c6eb01-47f8-445f-a79f-7421a350cd33",
    "collapsed": false,
    "jupyter": {
     "outputs_hidden": false
    },
    "papermill": {
     "duration": 0.007862,
     "end_time": "2025-03-09T13:58:08.006686",
     "exception": false,
     "start_time": "2025-03-09T13:58:07.998824",
     "status": "completed"
    },
    "tags": []
   },
   "source": []
  }
 ],
 "metadata": {
  "kaggle": {
   "accelerator": "none",
   "dataSources": [
    {
     "databundleVersionId": 26502,
     "sourceId": 3136,
     "sourceType": "competition"
    }
   ],
   "dockerImageVersionId": 30918,
   "isGpuEnabled": false,
   "isInternetEnabled": false,
   "language": "python",
   "sourceType": "notebook"
  },
  "kernelspec": {
   "display_name": "Python 3",
   "language": "python",
   "name": "python3"
  },
  "language_info": {
   "codemirror_mode": {
    "name": "ipython",
    "version": 3
   },
   "file_extension": ".py",
   "mimetype": "text/x-python",
   "name": "python",
   "nbconvert_exporter": "python",
   "pygments_lexer": "ipython3",
   "version": "3.10.12"
  },
  "papermill": {
   "default_parameters": {},
   "duration": 29.603686,
   "end_time": "2025-03-09T13:58:09.837857",
   "environment_variables": {},
   "exception": null,
   "input_path": "__notebook__.ipynb",
   "output_path": "__notebook__.ipynb",
   "parameters": {},
   "start_time": "2025-03-09T13:57:40.234171",
   "version": "2.6.0"
  }
 },
 "nbformat": 4,
 "nbformat_minor": 5
}
